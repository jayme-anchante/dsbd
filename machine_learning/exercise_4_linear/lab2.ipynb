{
 "cells": [
  {
   "cell_type": "code",
   "execution_count": 1,
   "metadata": {},
   "outputs": [],
   "source": [
    "%matplotlib inline\n",
    "import numpy as np\n",
    "import matplotlib.pyplot as plt\n",
    "from sklearn.datasets import load_svmlight_file\n",
    "from sklearn.decomposition import PCA, TruncatedSVD\n",
    "from sklearn.linear_model import LogisticRegression\n",
    "from sklearn.neighbors import KNeighborsClassifier\n",
    "from sklearn.discriminant_analysis import LinearDiscriminantAnalysis\n",
    "from sklearn.naive_bayes import GaussianNB\n",
    "from sklearn.metrics import confusion_matrix\n",
    "\n",
    "import warnings; warnings.filterwarnings('ignore')"
   ]
  },
  {
   "cell_type": "code",
   "execution_count": 2,
   "metadata": {},
   "outputs": [],
   "source": [
    "X_train, y_train = load_svmlight_file('train.txt')\n",
    "X_test, y_test = load_svmlight_file('test.txt')"
   ]
  },
  {
   "cell_type": "code",
   "execution_count": 3,
   "metadata": {},
   "outputs": [],
   "source": [
    "svd = TruncatedSVD(n_components=10)\n",
    "svd.fit(X_train)\n",
    "X_train = svd.transform(X_train)\n",
    "X_test = svd.transform(X_test)"
   ]
  },
  {
   "cell_type": "code",
   "execution_count": 4,
   "metadata": {},
   "outputs": [],
   "source": [
    "size = X_train.shape\n",
    "batchsize = 1000\n",
    "end = batchsize\n",
    "knn_history = []\n",
    "logit_history = []\n",
    "lda_history = []\n",
    "nb_history = []"
   ]
  },
  {
   "cell_type": "code",
   "execution_count": 5,
   "metadata": {},
   "outputs": [
    {
     "name": "stdout",
     "output_type": "stream",
     "text": [
      "Training with 1000 samples\n",
      "Training with 2000 samples\n",
      "Training with 3000 samples\n",
      "Training with 4000 samples\n",
      "Training with 5000 samples\n",
      "Training with 6000 samples\n",
      "Training with 7000 samples\n",
      "Training with 8000 samples\n",
      "Training with 9000 samples\n",
      "Training with 10000 samples\n",
      "Training with 11000 samples\n",
      "Training with 12000 samples\n",
      "Training with 13000 samples\n",
      "Training with 14000 samples\n",
      "Training with 15000 samples\n",
      "Training with 16000 samples\n",
      "Training with 17000 samples\n",
      "Training with 18000 samples\n",
      "Training with 19000 samples\n",
      "Training with 20000 samples\n"
     ]
    }
   ],
   "source": [
    "while end <= size[0]:\n",
    "    \n",
    "    print('Training with {} samples'.format(end))\n",
    "    \n",
    "    knn = KNeighborsClassifier()\n",
    "    logit = LogisticRegression()\n",
    "    lda = LinearDiscriminantAnalysis()\n",
    "    nb = GaussianNB()\n",
    "    \n",
    "    knn.fit(X_train[0:end], y_train[0:end])\n",
    "    logit.fit(X_train[0:end], y_train[0:end])\n",
    "    lda.fit(X_train[0:end], y_train[0:end])\n",
    "    nb.fit(X_train[0:end], y_train[0:end])\n",
    "    \n",
    "    knn_history.append(knn.score(X_test, y_test))\n",
    "    logit_history.append(logit.score(X_test, y_test))\n",
    "    lda_history.append(lda.score(X_test, y_test))\n",
    "    nb_history.append(nb.score(X_test, y_test))\n",
    "    \n",
    "    end = end + batchsize"
   ]
  },
  {
   "cell_type": "markdown",
   "metadata": {},
   "source": [
    "# Compare o desempenho desses classificadores em função da disponibilidade de base de treinamento"
   ]
  },
  {
   "cell_type": "code",
   "execution_count": 6,
   "metadata": {},
   "outputs": [
    {
     "data": {
      "image/png": "[encoded data removed]",
      "text/plain": [
       "<Figure size 1296x432 with 4 Axes>"
      ]
     },
     "metadata": {},
     "output_type": "display_data"
    }
   ],
   "source": [
    "x = [i for i in range(1000, 20001, 1000)]\n",
    "f, (ax1, ax2, ax3, ax4) = plt.subplots(1, 4, sharey=True, figsize=(18,6))\n",
    "ax1.plot(x, knn_history)\n",
    "ax1.set_title('KNN')\n",
    "ax2.plot(x, logit_history)\n",
    "ax2.set_title('Logistic')\n",
    "ax3.plot(x, lda_history)\n",
    "ax3.set_title('LDA')\n",
    "ax4.plot(x, nb_history)\n",
    "ax4.set_title('Naive Bayes');"
   ]
  },
  {
   "cell_type": "markdown",
   "metadata": {},
   "source": [
    "* O KNN é o classificador que apresenta o melhor resultado dentre os 4 classificadores\n",
    "\n",
    "* KNN e Naive Bayes a partir de 10k exemplos deixam de aumentar a acurácia da base de teste. A regressão logística e o LDA continuam aumentando a acurácia na base de teste a medida que aumenta a base de treino, especialmente a regressão logística"
   ]
  },
  {
   "cell_type": "markdown",
   "metadata": {},
   "source": [
    "# Qual é o classificador que tem o melhor desempenho com poucos dados < 1000 exemplos"
   ]
  },
  {
   "cell_type": "code",
   "execution_count": 7,
   "metadata": {},
   "outputs": [
    {
     "name": "stdout",
     "output_type": "stream",
     "text": [
      "\n",
      "KNN: 0.7099034887289841\n",
      "Logit: 0.6465743614227739\n",
      "LDA: 0.7205436005865703\n",
      "Naive: 0.5827166388159465\n"
     ]
    }
   ],
   "source": [
    "print('''\n",
    "KNN: {}\n",
    "Logit: {}\n",
    "LDA: {}\n",
    "Naive: {}'''.format(knn_history[0],\n",
    "                    logit_history[0],\n",
    "                    lda_history[0],\n",
    "                    nb_history[0]))"
   ]
  },
  {
   "cell_type": "markdown",
   "metadata": {},
   "source": [
    "* O melhor classificador com poucos dados (1000 exemplos de treino) é o LDA"
   ]
  },
  {
   "cell_type": "markdown",
   "metadata": {},
   "source": [
    "# Qual é o classificador que tem melhor desempenho com todos os dados"
   ]
  },
  {
   "cell_type": "code",
   "execution_count": 8,
   "metadata": {},
   "outputs": [
    {
     "name": "stdout",
     "output_type": "stream",
     "text": [
      "\n",
      "KNN: 0.8551989905534905\n",
      "Logit: 0.7884766224465437\n",
      "LDA: 0.7798997374074959\n",
      "Naive: 0.7457456604030965\n"
     ]
    }
   ],
   "source": [
    "print('''\n",
    "KNN: {}\n",
    "Logit: {}\n",
    "LDA: {}\n",
    "Naive: {}'''.format(knn_history[-1],\n",
    "                    logit_history[-1],\n",
    "                    lda_history[-1],\n",
    "                    nb_history[-1]))"
   ]
  },
  {
   "cell_type": "markdown",
   "metadata": {},
   "source": [
    "* O KNN é o classificador que tem o melhor desempenho com todos os dados"
   ]
  },
  {
   "cell_type": "markdown",
   "metadata": {},
   "source": [
    "# Qual é o classificador é mais rápido para classificar os 58k exemplos de teste"
   ]
  },
  {
   "cell_type": "code",
   "execution_count": 9,
   "metadata": {},
   "outputs": [
    {
     "name": "stdout",
     "output_type": "stream",
     "text": [
      "CPU times: user 4.08 s, sys: 19.9 ms, total: 4.1 s\n",
      "Wall time: 3.89 s\n"
     ]
    },
    {
     "data": {
      "text/plain": [
       "0.8551989905534905"
      ]
     },
     "execution_count": 9,
     "metadata": {},
     "output_type": "execute_result"
    }
   ],
   "source": [
    "%%time\n",
    "knn.score(X_test, y_test)"
   ]
  },
  {
   "cell_type": "code",
   "execution_count": 10,
   "metadata": {},
   "outputs": [
    {
     "name": "stdout",
     "output_type": "stream",
     "text": [
      "CPU times: user 21 ms, sys: 11.9 ms, total: 32.9 ms\n",
      "Wall time: 15.9 ms\n"
     ]
    },
    {
     "data": {
      "text/plain": [
       "0.7884766224465437"
      ]
     },
     "execution_count": 10,
     "metadata": {},
     "output_type": "execute_result"
    }
   ],
   "source": [
    "%%time\n",
    "logit.score(X_test, y_test)"
   ]
  },
  {
   "cell_type": "code",
   "execution_count": 11,
   "metadata": {},
   "outputs": [
    {
     "name": "stdout",
     "output_type": "stream",
     "text": [
      "CPU times: user 30.9 ms, sys: 68 µs, total: 30.9 ms\n",
      "Wall time: 14.8 ms\n"
     ]
    },
    {
     "data": {
      "text/plain": [
       "0.7798997374074959"
      ]
     },
     "execution_count": 11,
     "metadata": {},
     "output_type": "execute_result"
    }
   ],
   "source": [
    "%%time\n",
    "lda.score(X_test, y_test)"
   ]
  },
  {
   "cell_type": "code",
   "execution_count": 12,
   "metadata": {},
   "outputs": [
    {
     "name": "stdout",
     "output_type": "stream",
     "text": [
      "CPU times: user 201 ms, sys: 8 µs, total: 201 ms\n",
      "Wall time: 99.6 ms\n"
     ]
    },
    {
     "data": {
      "text/plain": [
       "0.7457456604030965"
      ]
     },
     "execution_count": 12,
     "metadata": {},
     "output_type": "execute_result"
    }
   ],
   "source": [
    "%%time\n",
    "nb.score(X_test, y_test)"
   ]
  },
  {
   "cell_type": "markdown",
   "metadata": {},
   "source": [
    "* O Naive Bayes é o classificador mais rápido para previsão"
   ]
  },
  {
   "cell_type": "markdown",
   "metadata": {},
   "source": [
    "# O que vc pode dizer a respeito das matrizes de confusão"
   ]
  },
  {
   "cell_type": "code",
   "execution_count": 13,
   "metadata": {},
   "outputs": [
    {
     "name": "stdout",
     "output_type": "stream",
     "text": [
      "KNN\n"
     ]
    },
    {
     "data": {
      "text/plain": [
       "array([[5128,    2,   43,    4,    4,    3,   31,    0,  344,    1],\n",
       "       [   5, 5810,  202,  103,   57,   11,  139,   64,  131,  133],\n",
       "       [  58,   27, 5074,  506,   12,   22,   90,   32,   61,    6],\n",
       "       [   6,    3,  169, 5177,   13,  300,    5,   58,   45,   43],\n",
       "       [  32,    4,   62,   25, 5092,   15,   97,   71,   79,  245],\n",
       "       [  16,    5,  135, 1109,   28, 3900,   41,   29,  252,   24],\n",
       "       [  68,   18,   43,    3,   12,   73, 5435,    0,  206,    0],\n",
       "       [   1,   25,   34,  206,  118,    3,    1, 5172,   27,  510],\n",
       "       [ 199,   38,  113,  287,   53,  113,   74,   65, 4562,  191],\n",
       "       [  18,   17,   18,  199,  302,    4,    2,  311,  138, 4804]])"
      ]
     },
     "execution_count": 13,
     "metadata": {},
     "output_type": "execute_result"
    }
   ],
   "source": [
    "print('KNN')\n",
    "confusion_matrix(y_test, knn.predict(X_test))"
   ]
  },
  {
   "cell_type": "code",
   "execution_count": 14,
   "metadata": {},
   "outputs": [
    {
     "name": "stdout",
     "output_type": "stream",
     "text": [
      "Logit\n"
     ]
    },
    {
     "data": {
      "text/plain": [
       "array([[4934,    9,  100,   16,    1,   10,  134,    0,  353,    3],\n",
       "       [   0, 4945,  193,  118,  225,   26,  594,  101,  401,   52],\n",
       "       [  44,   42, 4951,  447,   17,   55,  197,   59,   67,    9],\n",
       "       [  10,   11,  239, 5151,   59,  199,   12,  106,   12,   20],\n",
       "       [  28,    8,    7,   14, 5242,    3,  182,   46,   32,  160],\n",
       "       [  15,   14,   74, 1527,  237, 3441,   91,   46,   81,   13],\n",
       "       [  59,   33,   12,   26,   32,  319, 5287,    0,   90,    0],\n",
       "       [   0,   43,   22,  238,  190,   16,    0, 4984,   35,  569],\n",
       "       [1036,  145,   96,  286,  189,  331,  114,  137, 3026,  335],\n",
       "       [  88,   33,    6,  248,  659,    6,    6,  429,   58, 4280]])"
      ]
     },
     "execution_count": 14,
     "metadata": {},
     "output_type": "execute_result"
    }
   ],
   "source": [
    "print('Logit')\n",
    "confusion_matrix(y_test, logit.predict(X_test))"
   ]
  },
  {
   "cell_type": "code",
   "execution_count": 15,
   "metadata": {},
   "outputs": [
    {
     "name": "stdout",
     "output_type": "stream",
     "text": [
      "LDA\n"
     ]
    },
    {
     "data": {
      "text/plain": [
       "array([[4836,    7,   52,    6,    0,    4,  102,    0,  551,    2],\n",
       "       [   0, 4978,  171,   71,   51,   15,  958,  147,  109,  155],\n",
       "       [   9,   43, 4458,  851,   11,   17,  322,   64,   96,   17],\n",
       "       [   2,   10,  271, 4944,   64,  121,   18,  260,   28,  101],\n",
       "       [   2,   20,    4,    2, 5066,    0,  207,   14,   73,  334],\n",
       "       [   5,   12,  121, 1757,  236, 3107,  116,   40,   90,   55],\n",
       "       [  49,   29,    5,    2,   14,  228, 5163,    0,  368,    0],\n",
       "       [   0,   40,    7,  113,  156,    4,    0, 4844,   19,  914],\n",
       "       [ 539,   96,   42,  145,   92,  188,  144,  112, 3862,  475],\n",
       "       [  79,   30,    4,  149,  509,    2,    9,  392,  159, 4480]])"
      ]
     },
     "execution_count": 15,
     "metadata": {},
     "output_type": "execute_result"
    }
   ],
   "source": [
    "print('LDA')\n",
    "confusion_matrix(y_test, lda.predict(X_test))"
   ]
  },
  {
   "cell_type": "code",
   "execution_count": 17,
   "metadata": {},
   "outputs": [
    {
     "name": "stdout",
     "output_type": "stream",
     "text": [
      "Naive Bayes\n"
     ]
    },
    {
     "data": {
      "text/plain": [
       "array([[4861,    8,  239,   77,    1,    5,  123,    0,  244,    2],\n",
       "       [   0, 4170,  356,   48,   53,   31, 1619,   33,  153,  192],\n",
       "       [  32,   32, 4779,  861,    6,   11,  120,   16,   23,    8],\n",
       "       [  10,    9,  601, 4852,   48,   99,   36,   90,   16,   58],\n",
       "       [  15,   10,   17,    2, 5105,    5,  229,   23,   20,  296],\n",
       "       [  11,    9,  297, 1914,  198, 2697,  245,   62,   63,   43],\n",
       "       [ 182,   58,   96,    3,    9,  304, 5096,    0,  110,    0],\n",
       "       [   0,   37,   58,  139,  190,   15,    0, 4706,   29,  923],\n",
       "       [ 815,  107,  212,  282,   86,  225,  279,   64, 3131,  494],\n",
       "       [  57,   34,   22,  198,  485,    2,   13,  518,  146, 4338]])"
      ]
     },
     "execution_count": 17,
     "metadata": {},
     "output_type": "execute_result"
    }
   ],
   "source": [
    "print('Naive Bayes')\n",
    "confusion_matrix(y_test, nb.predict(X_test))"
   ]
  },
  {
   "cell_type": "markdown",
   "metadata": {},
   "source": [
    "* 5, 8 e 9 são os números que mais vezes são classificados errados\n",
    "\n",
    "* 0, 1 e 6 são os números que mais vezes são classificados certos"
   ]
  }
 ],
 "metadata": {
  "kernelspec": {
   "display_name": "Python 3",
   "language": "python",
   "name": "python3"
  },
  "language_info": {
   "codemirror_mode": {
    "name": "ipython",
    "version": 3
   },
   "file_extension": ".py",
   "mimetype": "text/x-python",
   "name": "python",
   "nbconvert_exporter": "python",
   "pygments_lexer": "ipython3",
   "version": "3.6.5"
  }
 },
 "nbformat": 4,
 "nbformat_minor": 2
}
