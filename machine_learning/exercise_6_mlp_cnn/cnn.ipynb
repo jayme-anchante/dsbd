{
 "cells": [
  {
   "cell_type": "code",
   "execution_count": 1,
   "metadata": {},
   "outputs": [
    {
     "name": "stderr",
     "output_type": "stream",
     "text": [
      "Using TensorFlow backend.\n"
     ]
    }
   ],
   "source": [
    "import cv2\n",
    "import numpy as np\n",
    "import matplotlib.pyplot as plt\n",
    "\n",
    "import keras\n",
    "from keras.datasets import mnist\n",
    "from keras.models import Sequential\n",
    "from keras.layers import Dense, Dropout, Flatten\n",
    "from keras.layers import Conv2D, MaxPooling2D\n",
    "from keras import backend as K\n",
    "from PIL import Image\n",
    "\n",
    "from sklearn.metrics import confusion_matrix"
   ]
  },
  {
   "cell_type": "code",
   "execution_count": 2,
   "metadata": {},
   "outputs": [],
   "source": [
    "# parameters\n",
    "\n",
    "num_classes = 12\n",
    "\n",
    "train_file = 'cnn/train.txt'\n",
    "test_file = 'cnn/test.txt'\n",
    "\n",
    "img_rows, img_cols = 64, 64"
   ]
  },
  {
   "cell_type": "code",
   "execution_count": 3,
   "metadata": {},
   "outputs": [],
   "source": [
    "def load_images(image_paths, convert=False):\n",
    "    \n",
    "    x = []\n",
    "    y = []\n",
    "    for image_path in image_paths:\n",
    "        \n",
    "        path, label = image_path.split(' ')\n",
    "        \n",
    "        path= './cnn/data/' + path\n",
    "        \n",
    "        if convert:\n",
    "            image_pil = Image.open(path).convert('RGB') \n",
    "        else:\n",
    "            image_pil = Image.open(path).convert('L')\n",
    "            \n",
    "        img = np.array(image_pil, dtype=np.uint8)\n",
    "        \n",
    "        x.append(img)\n",
    "        y.append([int(label)])\n",
    "        \n",
    "    x = np.array(x)\n",
    "    y = np.array(y)\n",
    "    \n",
    "    if np.min(y) != 0:\n",
    "        y = y-1\n",
    "        \n",
    "    return x, y"
   ]
  },
  {
   "cell_type": "code",
   "execution_count": 4,
   "metadata": {},
   "outputs": [],
   "source": [
    "def load_dataset(train_file, test_file, resize, convert=False, size=(224,224)):\n",
    "    \n",
    "    arq = open(train_file, 'r')\n",
    "    texto = arq.read()\n",
    "    train_paths = texto.split('\\n')\n",
    "    \n",
    "    print('Size : ', size)\n",
    "    \n",
    "    train_paths.remove('')    # remove empty lines\n",
    "    train_paths.sort()\n",
    "    x_train, y_train = load_images(train_paths, convert)\n",
    "    \n",
    "    arq = open(test_file, 'r')\n",
    "    texto = arq.read()\n",
    "    test_paths = texto.split('\\n')\n",
    "    \n",
    "    test_paths.remove('')    # remove empty lines\n",
    "    test_paths.sort()\n",
    "    x_test, y_test = load_images(test_paths, convert)\n",
    "    \n",
    "    if resize:\n",
    "        print(\"Resizing images...\")\n",
    "        x_train = resize_data(x_train, size, convert)\n",
    "        x_test = resize_data(x_test, size, convert)\n",
    "        \n",
    "    if not convert:\n",
    "        x_train = x_train.reshape(x_train.shape[0], size[0], size[1], 1)\n",
    "        x_test = x_test.reshape(x_test.shape[0], size[0], size[1], 1)\n",
    "        \n",
    "    print(\"Shape of train data:\", np.shape(x_train))\n",
    "    return (x_train, y_train), (x_test, y_test)"
   ]
  },
  {
   "cell_type": "code",
   "execution_count": 5,
   "metadata": {},
   "outputs": [],
   "source": [
    "def resize_data(data, size, convert):\n",
    "    \n",
    "    if convert:\n",
    "        data_upscaled = np.zeros((data.shape[0], size[0], size[1], 3))\n",
    "    else:\n",
    "        data_upscaled = np.zeros((data.shape[0], size[0], size[1]))\n",
    "    for i, img in enumerate(data):\n",
    "        large_img = cv2.resize(img, dsize=(size[1], size[0]), interpolation=cv2.INTER_CUBIC)\n",
    "        data_upscaled[i] = large_img\n",
    "        \n",
    "    print(\"Shape of data upscaled:\", np.shape(data_upscaled))\n",
    "    return data_upscaled"
   ]
  },
  {
   "cell_type": "code",
   "execution_count": 6,
   "metadata": {},
   "outputs": [
    {
     "name": "stdout",
     "output_type": "stream",
     "text": [
      "Size :  (64, 64)\n",
      "Resizing images...\n",
      "Shape of data upscaled: (1578, 64, 64, 3)\n",
      "Shape of data upscaled: (401, 64, 64, 3)\n",
      "Shape of train data: (1578, 64, 64, 3)\n"
     ]
    }
   ],
   "source": [
    "# gray scale\n",
    "#input_shape = (img_rows, img_cols, 1)\n",
    "#(x_train, y_train), (x_test, y_test) = load_dataset(train_file, test_file, resize=True, convert=False, size=(img_rows, img_cols))\n",
    "\n",
    "# rgb\n",
    "input_shape = (img_rows, img_cols, 3)\n",
    "(x_train, y_train), (x_test, y_test) = load_dataset(train_file, test_file, resize=True, convert=True, size=(img_rows, img_cols))"
   ]
  },
  {
   "cell_type": "code",
   "execution_count": 7,
   "metadata": {},
   "outputs": [],
   "source": [
    "### save for the confusion matrix\n",
    "label = []\n",
    "for i in range(len(x_test)):\n",
    "    label.append(y_test[i][0])"
   ]
  },
  {
   "cell_type": "code",
   "execution_count": 8,
   "metadata": {},
   "outputs": [
    {
     "name": "stdout",
     "output_type": "stream",
     "text": [
      "x_train shape: (1578, 64, 64, 3)\n",
      "1578 train samples\n",
      "401 test samples\n"
     ]
    }
   ],
   "source": [
    "#normalize images\n",
    "x_train = x_train.astype('float32')\n",
    "x_test = x_test.astype('float32')\n",
    "x_train /= 255\n",
    "x_test /= 255\n",
    "print('x_train shape:', x_train.shape)\n",
    "\n",
    "print(x_train.shape[0], 'train samples')\n",
    "print(x_test.shape[0], 'test samples')"
   ]
  },
  {
   "cell_type": "code",
   "execution_count": 9,
   "metadata": {},
   "outputs": [],
   "source": [
    "# convert class vectors to binary class matrices\n",
    "y_train = keras.utils.to_categorical(y_train, num_classes)\n",
    "y_test = keras.utils.to_categorical(y_test, num_classes)"
   ]
  },
  {
   "cell_type": "code",
   "execution_count": 10,
   "metadata": {},
   "outputs": [],
   "source": [
    "# create cnn model\n",
    "model = Sequential()\n",
    "model.add(Conv2D(32, kernel_size=(3, 3), activation='relu', input_shape=input_shape))\n",
    "model.add(Conv2D(64, (3, 3), activation='relu'))\n",
    "model.add(MaxPooling2D(pool_size=(2, 2)))\n",
    "model.add(Dropout(0.25))\n",
    "model.add(Flatten())\n",
    "model.add(Dense(128, activation='relu'))\n",
    "model.add(Dropout(0.5))\n",
    "model.add(Dense(num_classes, activation='softmax'))"
   ]
  },
  {
   "cell_type": "code",
   "execution_count": 11,
   "metadata": {},
   "outputs": [
    {
     "name": "stdout",
     "output_type": "stream",
     "text": [
      "Network structure ----------------------------------\n",
      "0 conv2d_1\n",
      "(None, 62, 62, 32)\n",
      "1 conv2d_2\n",
      "(None, 60, 60, 64)\n",
      "2 max_pooling2d_1\n",
      "(None, 30, 30, 64)\n",
      "3 dropout_1\n",
      "(None, 30, 30, 64)\n",
      "4 flatten_1\n",
      "(None, 57600)\n",
      "5 dense_1\n",
      "(None, 128)\n",
      "6 dropout_2\n",
      "(None, 128)\n",
      "7 dense_2\n",
      "(None, 12)\n",
      "----------------------------------------------------\n"
     ]
    }
   ],
   "source": [
    "# print cnn layers\n",
    "print('Network structure ----------------------------------')\n",
    "for i, layer in enumerate(model.layers):\n",
    "    print(i,layer.name)\n",
    "    if hasattr(layer, 'output_shape'):\n",
    "        print(layer.output_shape)\n",
    "print('----------------------------------------------------')"
   ]
  },
  {
   "cell_type": "code",
   "execution_count": 12,
   "metadata": {},
   "outputs": [],
   "source": [
    "model.compile(loss=keras.losses.categorical_crossentropy, optimizer=keras.optimizers.Adadelta(), metrics=['accuracy'])"
   ]
  },
  {
   "cell_type": "code",
   "execution_count": 13,
   "metadata": {},
   "outputs": [
    {
     "name": "stdout",
     "output_type": "stream",
     "text": [
      "Train on 1578 samples, validate on 401 samples\n",
      "Epoch 1/20\n",
      "1578/1578 [==============================] - 36s 23ms/step - loss: 3.7135 - acc: 0.1058 - val_loss: 2.3817 - val_acc: 0.1097\n",
      "Epoch 2/20\n",
      "1578/1578 [==============================] - 39s 25ms/step - loss: 2.3124 - acc: 0.1743 - val_loss: 2.1261 - val_acc: 0.2943\n",
      "Epoch 3/20\n",
      "1578/1578 [==============================] - 39s 25ms/step - loss: 2.0900 - acc: 0.2649 - val_loss: 1.8650 - val_acc: 0.4613\n",
      "Epoch 4/20\n",
      "1578/1578 [==============================] - 37s 23ms/step - loss: 1.8873 - acc: 0.3587 - val_loss: 1.7271 - val_acc: 0.5212\n",
      "Epoch 5/20\n",
      "1578/1578 [==============================] - 37s 24ms/step - loss: 1.6878 - acc: 0.4265 - val_loss: 1.5663 - val_acc: 0.4988\n",
      "Epoch 6/20\n",
      "1578/1578 [==============================] - 34s 22ms/step - loss: 1.4909 - acc: 0.4772 - val_loss: 1.3623 - val_acc: 0.6608\n",
      "Epoch 7/20\n",
      "1578/1578 [==============================] - 35s 22ms/step - loss: 1.3617 - acc: 0.5272 - val_loss: 1.3032 - val_acc: 0.6060\n",
      "Epoch 8/20\n",
      "1578/1578 [==============================] - 34s 22ms/step - loss: 1.2030 - acc: 0.5716 - val_loss: 1.1865 - val_acc: 0.6035\n",
      "Epoch 9/20\n",
      "1578/1578 [==============================] - 44s 28ms/step - loss: 1.0292 - acc: 0.6458 - val_loss: 1.0438 - val_acc: 0.6509\n",
      "Epoch 10/20\n",
      "1578/1578 [==============================] - 47s 29ms/step - loss: 0.9151 - acc: 0.6774 - val_loss: 1.1408 - val_acc: 0.6085\n",
      "Epoch 11/20\n",
      "1578/1578 [==============================] - 48s 30ms/step - loss: 0.7273 - acc: 0.7427 - val_loss: 0.9305 - val_acc: 0.7207\n",
      "Epoch 12/20\n",
      "1578/1578 [==============================] - 41s 26ms/step - loss: 0.6392 - acc: 0.7807 - val_loss: 0.9524 - val_acc: 0.7057\n",
      "Epoch 13/20\n",
      "1578/1578 [==============================] - 42s 27ms/step - loss: 0.4826 - acc: 0.8264 - val_loss: 0.8890 - val_acc: 0.7731\n",
      "Epoch 14/20\n",
      "1578/1578 [==============================] - 43s 28ms/step - loss: 0.4548 - acc: 0.8479 - val_loss: 0.7313 - val_acc: 0.7731\n",
      "Epoch 15/20\n",
      "1578/1578 [==============================] - 66s 42ms/step - loss: 0.3564 - acc: 0.8802 - val_loss: 0.7740 - val_acc: 0.7781\n",
      "Epoch 16/20\n",
      "1578/1578 [==============================] - 38s 24ms/step - loss: 0.3039 - acc: 0.8897 - val_loss: 0.8075 - val_acc: 0.7631\n",
      "Epoch 17/20\n",
      "1578/1578 [==============================] - 35s 22ms/step - loss: 0.2920 - acc: 0.8923 - val_loss: 0.6212 - val_acc: 0.8229\n",
      "Epoch 18/20\n",
      "1578/1578 [==============================] - 35s 22ms/step - loss: 0.2432 - acc: 0.9151 - val_loss: 0.8039 - val_acc: 0.7756\n",
      "Epoch 19/20\n",
      "1578/1578 [==============================] - 34s 21ms/step - loss: 0.1992 - acc: 0.9303 - val_loss: 0.6766 - val_acc: 0.7980\n",
      "Epoch 20/20\n",
      "1578/1578 [==============================] - 36s 23ms/step - loss: 0.1882 - acc: 0.9341 - val_loss: 0.6338 - val_acc: 0.7980\n"
     ]
    }
   ],
   "source": [
    "history = model.fit(x_train, y_train, batch_size=128, epochs=20, verbose=True, validation_data=(x_test, y_test))"
   ]
  },
  {
   "cell_type": "code",
   "execution_count": 14,
   "metadata": {},
   "outputs": [
    {
     "name": "stdout",
     "output_type": "stream",
     "text": [
      "Test accuracy: 0.7980049878284521\n"
     ]
    }
   ],
   "source": [
    "score = model.evaluate(x_test, y_test, verbose=0)\n",
    "print('Test accuracy:', score[1])"
   ]
  },
  {
   "cell_type": "code",
   "execution_count": 15,
   "metadata": {},
   "outputs": [],
   "source": [
    "pred = []\n",
    "y_pred = model.predict_classes(x_test)\n",
    "for i in range(len(x_test)):\n",
    "    pred.append(y_pred[i])"
   ]
  },
  {
   "cell_type": "code",
   "execution_count": 16,
   "metadata": {},
   "outputs": [
    {
     "name": "stdout",
     "output_type": "stream",
     "text": [
      "[[29  4  0  0  0  2  3  0  0  0  1  0]\n",
      " [ 5 25  0  0  0  0  0  0  2  0  0  0]\n",
      " [ 0  0 35  1  0  0  0  0  0  0  0  0]\n",
      " [ 0  0  1 36  1  0  0  1  0  0  0  0]\n",
      " [ 0  0  0  2 35  0  0  0  0  1  0  0]\n",
      " [ 3  0  0  0  0 24  2  0  0  0  0  0]\n",
      " [ 3  0  1  0  0  7 19  0  0  2  0  0]\n",
      " [ 0  1  0  0  0  0  0 20  0  0  1  6]\n",
      " [ 0  1  0  1  0  0  0  0 19  6  3  1]\n",
      " [ 0  0  0  0  0  0  0  0  1 29  0  0]\n",
      " [ 0  1  0  0  0  0  0  0  2  0 29  2]\n",
      " [ 0  4  0  0  0  1  0  1  4  3  0 20]]\n"
     ]
    }
   ],
   "source": [
    "print(confusion_matrix(label, pred))"
   ]
  },
  {
   "cell_type": "code",
   "execution_count": 19,
   "metadata": {},
   "outputs": [
    {
     "name": "stdout",
     "output_type": "stream",
     "text": [
      "dict_keys(['val_loss', 'val_acc', 'loss', 'acc'])\n"
     ]
    },
    {
     "data": {
      "image/png": "[encoded data removed]",
      "text/plain": [
       "<Figure size 1152x576 with 1 Axes>"
      ]
     },
     "metadata": {},
     "output_type": "display_data"
    }
   ],
   "source": [
    "print(history.history.keys())\n",
    "# summarize history for accuracy\n",
    "plt.figure(figsize=(16, 8))\n",
    "plt.plot(history.history['acc'])\n",
    "plt.plot(history.history['val_acc'])\n",
    "plt.title('model accuracy')\n",
    "plt.ylabel('accuracy')\n",
    "plt.xlabel('epoch')\n",
    "plt.legend(['train', 'test'], loc='upper left')\n",
    "plt.show()"
   ]
  },
  {
   "cell_type": "markdown",
   "metadata": {},
   "source": [
    "\n",
    "    A quantidade de neurônios na camada escondida\n",
    "    Quantidade de camadas escondidas \n",
    "    Número de épocas de treinamento\n",
    "    Overfitting da rede. Qual arquitetura (simples ou complexa) entra em overfitting com mais facilidade? \n",
    "\n",
    "\n",
    "Escreva um relatório avaliando os mesmo item do exercício anterior e também os parâmetros das camadas de convolução (tamanho do filtro, função de ativação, tipo de pooling, quantidade de camadas de convolução). Reporte seu melhor resultado juntamente com as matrizes de confusão"
   ]
  },
  {
   "cell_type": "markdown",
   "metadata": {},
   "source": [
    "Sobre os itens do exercício anterior:\n",
    "\n",
    "* A rede neural tem 128 neurônios na camada escondida, ou seja, uma proporção de 1-1 na quantidade de pixels em cada imagem\n",
    "\n",
    "* A rede neural possui uma camada escondida com 128 neurônios\n",
    "\n",
    "* A rede neural possui uma camada de saída com 12 neurônios (um para cada mês do ano) e uma função de ativação do tipo softmax, que garanti que a saída do modelo será uma das 12 categorias previamente definidas olhando a base de treino\n",
    "\n",
    "* Possui 20 épocas de treinamento, cada uma demorando em média 40 segundos rodando em CPU (i5-4cores)\n",
    "\n",
    "* A rede começou com um comportamento fora do usual, tendo uma acurácia na base de validação maior que na base de treino, o que acabou retornando ao normal a partir da oitava época\n",
    "\n",
    "Sobre as camadas de convolução:\n",
    "\n",
    "* A CNN começa com duas camadas de convolução, a primeiro com um filtro (a dimensionalidade do espaço de saída, ou seja, o número de filtros na convolução) de tamanho 32 e a segunda de tamanho 64, com um kernel de 3x3 em ambos os casos\n",
    "\n",
    "* A camada seguinte é de Pooling do tipo Max, ou seja, pegando o valor máximo dentro do pool de valores, ainda, o tamanho do pool foi definido como um quadrado 2x2\n",
    "\n",
    "* A camada seguinte é de Dropout, uma das maneiras de se previnir o overfitting no contexto de Deep Learning. Esta camada reduz a 0 uma fração de neurônios de entrada, sendo que definimos a fração como sendo 50%\n",
    "\n",
    "* A camada final no contexto de convolução é a de Flatten, que \"lineariza\" a saída da camada anterior de um vetor com uma dimensão, para que a próxima camada consiga receber esta entrada\n",
    "\n",
    "A acurácia final na base de validação foi de 79.8%"
   ]
  }
 ],
 "metadata": {
  "kernelspec": {
   "display_name": "Python 3",
   "language": "python",
   "name": "python3"
  },
  "language_info": {
   "codemirror_mode": {
    "name": "ipython",
    "version": 3
   },
   "file_extension": ".py",
   "mimetype": "text/x-python",
   "name": "python",
   "nbconvert_exporter": "python",
   "pygments_lexer": "ipython3",
   "version": "3.6.5"
  }
 },
 "nbformat": 4,
 "nbformat_minor": 2
}
