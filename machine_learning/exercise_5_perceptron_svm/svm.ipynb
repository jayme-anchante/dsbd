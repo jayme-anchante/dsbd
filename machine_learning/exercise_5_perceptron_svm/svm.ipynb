{
 "cells": [
  {
   "cell_type": "code",
   "execution_count": 1,
   "metadata": {},
   "outputs": [
    {
     "name": "stdout",
     "output_type": "stream",
     "text": [
      "2.7.15 |Anaconda, Inc.| (default, May  1 2018, 23:32:55) \n",
      "[GCC 7.2.0]\n"
     ]
    }
   ],
   "source": [
    "import sys\n",
    "print sys.version"
   ]
  },
  {
   "cell_type": "markdown",
   "metadata": {},
   "source": [
    "# 1. svm toy"
   ]
  },
  {
   "cell_type": "code",
   "execution_count": 2,
   "metadata": {},
   "outputs": [],
   "source": [
    "import time\n",
    "import numpy\n",
    "from sklearn.datasets import make_blobs, make_gaussian_quantiles, load_digits\n",
    "from sklearn.model_selection import train_test_split\n",
    "from sklearn.model_selection import GridSearchCV\n",
    "from sklearn.svm import SVC\n",
    "\n",
    "import warnings; warnings.filterwarnings('ignore')"
   ]
  },
  {
   "cell_type": "code",
   "execution_count": 3,
   "metadata": {},
   "outputs": [
    {
     "data": {
      "text/plain": [
       "array([8.00000000e+00, 1.00000000e+00, 1.25000000e-01, 1.56250000e-02,\n",
       "       1.95312500e-03, 2.44140625e-04])"
      ]
     },
     "execution_count": 3,
     "metadata": {},
     "output_type": "execute_result"
    }
   ],
   "source": [
    "2. ** numpy.arange(3,-15,-3)"
   ]
  },
  {
   "cell_type": "code",
   "execution_count": 4,
   "metadata": {},
   "outputs": [],
   "source": [
    "def GridSearch(X_train, y_train, k):\n",
    "    \n",
    "    # define range dos parametros\n",
    "    C_range = 2. ** numpy.arange(-5,15,3)\n",
    "    gamma_range = 2. ** numpy.arange(3,-15,-3)\n",
    "    k = numpy.array([k])\n",
    "    param_grid = dict(gamma=gamma_range, C=C_range, kernel=k)\n",
    "    \n",
    "    # instancia o classificador, gerando probabilidades\n",
    "    srv = SVC(probability=True)\n",
    "    \n",
    "    # faz a busca\n",
    "    grid = GridSearchCV(srv, param_grid, n_jobs=-1, verbose=False)\n",
    "    grid.fit(X_train, y_train)\n",
    "    \n",
    "    # recupera o melhor modelo\n",
    "    model = grid.best_estimator_\n",
    "    \n",
    "    # imprime os parametros desse modelo\n",
    "    print '\\nMelhores parâmetros:', grid.best_params_, '\\n'\n",
    "    return model"
   ]
  },
  {
   "cell_type": "markdown",
   "metadata": {},
   "source": [
    "## a) make_blobs"
   ]
  },
  {
   "cell_type": "code",
   "execution_count": 5,
   "metadata": {},
   "outputs": [],
   "source": [
    "X, y = make_blobs(n_samples=300, centers=2)\n",
    "X_train, X_test, y_train, y_test = train_test_split(X, y, test_size=0.2, random_state=42)"
   ]
  },
  {
   "cell_type": "code",
   "execution_count": 6,
   "metadata": {},
   "outputs": [
    {
     "name": "stdout",
     "output_type": "stream",
     "text": [
      "\n",
      "Inicializando o com o kernel linear\n",
      "Desempenho com Kernel linear: 1.0\n",
      "Vetores de suporte: 2\n",
      "\n",
      "Melhores parâmetros: {'kernel': 'linear', 'C': 0.03125, 'gamma': 8.0} \n",
      "\n",
      "Acurácia com kernel linear: 1.0\n",
      "Vetores de suporte: 4\n",
      "\n",
      "Inicializando o com o kernel rbf\n",
      "Desempenho com Kernel rbf: 1.0\n",
      "Vetores de suporte: 39\n",
      "\n",
      "Melhores parâmetros: {'kernel': 'rbf', 'C': 0.03125, 'gamma': 0.125} \n",
      "\n",
      "Acurácia com kernel rbf: 1.0\n",
      "Vetores de suporte: 110\n"
     ]
    }
   ],
   "source": [
    "for k in ['linear', 'rbf']:\n",
    "    \n",
    "    print '\\nInicializando o com o kernel %s' % k\n",
    "    clf = SVC(kernel=k)\n",
    "    clf.fit(X_train, y_train)\n",
    "    # mostra o resultado do classificador na base de teste\n",
    "    print 'Desempenho com Kernel %s:' % k, clf.score(X_test, y_test)\n",
    "    print 'Vetores de suporte:',  clf.n_support_[0] + clf.n_support_[1]\n",
    "\n",
    "    # GridSearch retorna o melhor modelo encontrado na busca\n",
    "    best = GridSearch(X_train, y_train, k=k)\n",
    "\n",
    "    # resultado do treinamento\n",
    "    print 'Acurácia com kernel %s:' % k, best.score(X_train, y_train)\n",
    "    print 'Vetores de suporte:',  best.n_support_[0]+best.n_support_[1]"
   ]
  },
  {
   "cell_type": "markdown",
   "metadata": {},
   "source": [
    "O kernel RBF produz mais vetores de suporte que o kernel linear. Ambos SVMs atingem 100% de acurácia na base de teste"
   ]
  },
  {
   "cell_type": "markdown",
   "metadata": {},
   "source": [
    "## b) make_gaussian_quantiles"
   ]
  },
  {
   "cell_type": "code",
   "execution_count": 7,
   "metadata": {},
   "outputs": [],
   "source": [
    "X, y = make_gaussian_quantiles(n_samples=300)\n",
    "X_train, X_test, y_train, y_test = train_test_split(X, y, test_size=0.2, random_state=42)"
   ]
  },
  {
   "cell_type": "code",
   "execution_count": 8,
   "metadata": {},
   "outputs": [
    {
     "name": "stdout",
     "output_type": "stream",
     "text": [
      "\n",
      "Inicializando o com o kernel linear\n",
      "Desempenho com Kernel linear: 0.45\n",
      "Vetores de suporte: 159\n",
      "\n",
      "Inicializando o com o kernel rbf\n",
      "Desempenho com Kernel rbf: 0.9333333333333333\n",
      "Vetores de suporte: 97\n"
     ]
    }
   ],
   "source": [
    "for k in ['linear', 'rbf']:\n",
    "    \n",
    "    print '\\nInicializando o com o kernel %s' % k\n",
    "    clf = SVC(kernel=k)\n",
    "    clf.fit(X_train, y_train)\n",
    "    # mostra o resultado do classificador na base de teste\n",
    "    print 'Desempenho com Kernel %s:' % k, clf.score(X_test, y_test)\n",
    "    print 'Vetores de suporte:',  clf.n_support_[0] + clf.n_support_[1]"
   ]
  },
  {
   "cell_type": "markdown",
   "metadata": {},
   "source": [
    "Com a função make_gaussian_quantiles o kernel linear produz mais vetores de suporte. O kernel RBF produz uma acurácia muito melhor que o linear. O kernel linear produz 156 vetores de suporte enquanto o kernel RBF produz 105 vetores de suporte."
   ]
  },
  {
   "cell_type": "markdown",
   "metadata": {},
   "source": [
    "# 2. svm"
   ]
  },
  {
   "cell_type": "code",
   "execution_count": 9,
   "metadata": {},
   "outputs": [],
   "source": [
    "X = load_digits().data\n",
    "y = load_digits().target\n",
    "X_train, X_test, y_train, y_test = train_test_split(X, y, test_size=0.2, random_state=42)"
   ]
  },
  {
   "cell_type": "code",
   "execution_count": 10,
   "metadata": {},
   "outputs": [
    {
     "name": "stdout",
     "output_type": "stream",
     "text": [
      "\n",
      "Inicializando o com o kernel linear\n",
      "Desempenho com Kernel linear: 0.9777777777777777\n",
      "Vetores de suporte: 76\n",
      "Tempo de treinamento: 0.09 segundos com kernel linear\n",
      "\n",
      "Inicializando o com o kernel rbf\n",
      "Desempenho com Kernel rbf: 0.4666666666666667\n",
      "Vetores de suporte: 299\n",
      "Tempo de treinamento: 0.91 segundos com kernel rbf\n"
     ]
    }
   ],
   "source": [
    "for k in ['linear', 'rbf']:\n",
    "    \n",
    "    start = time.time()\n",
    "    \n",
    "    print '\\nInicializando o com o kernel %s' % k\n",
    "    clf = SVC(kernel=k)\n",
    "    clf.fit(X_train, y_train)\n",
    "    # mostra o resultado do classificador na base de teste\n",
    "    print 'Desempenho com Kernel %s:' % k, clf.score(X_test, y_test)\n",
    "    print 'Vetores de suporte:',  clf.n_support_[0] + clf.n_support_[1]\n",
    "\n",
    "    end = time.time()\n",
    "    print 'Tempo de treinamento: %s segundos com kernel' % round(end-start, 2), k"
   ]
  },
  {
   "cell_type": "markdown",
   "metadata": {},
   "source": [
    "## a)\n",
    "\n",
    "O melhor kernel em termos de acurácia foi linear com 97% de acerto na base de teste enquanto o kernel RBF acertou 47% na base de teste. O kernel linear foi uma ordem de magnitude mais rápido que o kernel RBF"
   ]
  },
  {
   "cell_type": "markdown",
   "metadata": {},
   "source": [
    "## b)\n",
    "\n",
    "O SVM com kernel linear produziu 76 vetores de suporte, enquanto o kernel RBF produziu 299 vetores de suporte"
   ]
  }
 ],
 "metadata": {
  "kernelspec": {
   "display_name": "Python 2",
   "language": "python",
   "name": "python2"
  },
  "language_info": {
   "codemirror_mode": {
    "name": "ipython",
    "version": 2
   },
   "file_extension": ".py",
   "mimetype": "text/x-python",
   "name": "python",
   "nbconvert_exporter": "python",
   "pygments_lexer": "ipython2",
   "version": "2.7.15"
  }
 },
 "nbformat": 4,
 "nbformat_minor": 2
}
