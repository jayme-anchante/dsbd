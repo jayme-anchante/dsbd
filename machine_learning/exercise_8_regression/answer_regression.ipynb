{
 "cells": [
  {
   "cell_type": "code",
   "execution_count": 1,
   "metadata": {},
   "outputs": [
    {
     "name": "stderr",
     "output_type": "stream",
     "text": [
      "/home/jayme/miniconda3/envs/ds/lib/python3.6/site-packages/sklearn/ensemble/weight_boosting.py:29: DeprecationWarning: numpy.core.umath_tests is an internal NumPy module and should not be imported. It will be removed in a future NumPy release.\n",
      "  from numpy.core.umath_tests import inner1d\n",
      "Using TensorFlow backend.\n"
     ]
    }
   ],
   "source": [
    "import numpy as np\n",
    "import pandas as pd\n",
    "import matplotlib.pyplot as plt\n",
    "\n",
    "from sklearn.preprocessing import MinMaxScaler\n",
    "from sklearn.model_selection import train_test_split\n",
    "\n",
    "from sklearn.linear_model import LinearRegression\n",
    "from sklearn.svm import SVR\n",
    "from sklearn.neighbors import KNeighborsRegressor\n",
    "from sklearn.tree import DecisionTreeRegressor\n",
    "from sklearn.ensemble import GradientBoostingRegressor, RandomForestRegressor\n",
    "\n",
    "from sklearn.metrics import mean_squared_error\n",
    "\n",
    "from keras.models import Sequential\n",
    "from keras.layers import Dense\n",
    "\n",
    "from tqdm import tqdm"
   ]
  },
  {
   "cell_type": "code",
   "execution_count": 2,
   "metadata": {},
   "outputs": [],
   "source": [
    "df = pd.read_csv('usina72.csv')"
   ]
  },
  {
   "cell_type": "code",
   "execution_count": 3,
   "metadata": {},
   "outputs": [
    {
     "data": {
      "text/html": [
       "<div>\n",
       "<style scoped>\n",
       "    .dataframe tbody tr th:only-of-type {\n",
       "        vertical-align: middle;\n",
       "    }\n",
       "\n",
       "    .dataframe tbody tr th {\n",
       "        vertical-align: top;\n",
       "    }\n",
       "\n",
       "    .dataframe thead th {\n",
       "        text-align: right;\n",
       "    }\n",
       "</style>\n",
       "<table border=\"1\" class=\"dataframe\">\n",
       "  <thead>\n",
       "    <tr style=\"text-align: right;\">\n",
       "      <th></th>\n",
       "      <th>f3</th>\n",
       "      <th>f4</th>\n",
       "      <th>f5</th>\n",
       "      <th>f6</th>\n",
       "      <th>f7</th>\n",
       "      <th>f8</th>\n",
       "      <th>f9</th>\n",
       "      <th>f10</th>\n",
       "      <th>f11</th>\n",
       "      <th>f12</th>\n",
       "    </tr>\n",
       "  </thead>\n",
       "  <tbody>\n",
       "    <tr>\n",
       "      <th>0</th>\n",
       "      <td>27.677983</td>\n",
       "      <td>91.388781</td>\n",
       "      <td>113.209530</td>\n",
       "      <td>119.066763</td>\n",
       "      <td>35</td>\n",
       "      <td>35</td>\n",
       "      <td>11582.00000</td>\n",
       "      <td>10687.94371</td>\n",
       "      <td>431.000000</td>\n",
       "      <td>415.311985</td>\n",
       "    </tr>\n",
       "    <tr>\n",
       "      <th>1</th>\n",
       "      <td>67.764253</td>\n",
       "      <td>18.374644</td>\n",
       "      <td>66.687665</td>\n",
       "      <td>86.138898</td>\n",
       "      <td>35</td>\n",
       "      <td>35</td>\n",
       "      <td>10687.94371</td>\n",
       "      <td>10481.06389</td>\n",
       "      <td>415.311985</td>\n",
       "      <td>368.255564</td>\n",
       "    </tr>\n",
       "    <tr>\n",
       "      <th>2</th>\n",
       "      <td>15.586149</td>\n",
       "      <td>44.981999</td>\n",
       "      <td>70.224125</td>\n",
       "      <td>60.568148</td>\n",
       "      <td>35</td>\n",
       "      <td>35</td>\n",
       "      <td>10481.06389</td>\n",
       "      <td>10255.49924</td>\n",
       "      <td>368.255564</td>\n",
       "      <td>394.118132</td>\n",
       "    </tr>\n",
       "    <tr>\n",
       "      <th>3</th>\n",
       "      <td>46.285723</td>\n",
       "      <td>35.742767</td>\n",
       "      <td>80.824620</td>\n",
       "      <td>82.028491</td>\n",
       "      <td>35</td>\n",
       "      <td>35</td>\n",
       "      <td>10255.49924</td>\n",
       "      <td>10535.18598</td>\n",
       "      <td>394.118132</td>\n",
       "      <td>390.997697</td>\n",
       "    </tr>\n",
       "    <tr>\n",
       "      <th>4</th>\n",
       "      <td>70.895098</td>\n",
       "      <td>54.298673</td>\n",
       "      <td>118.786567</td>\n",
       "      <td>125.193771</td>\n",
       "      <td>35</td>\n",
       "      <td>35</td>\n",
       "      <td>10535.18598</td>\n",
       "      <td>10720.26798</td>\n",
       "      <td>390.997697</td>\n",
       "      <td>373.836642</td>\n",
       "    </tr>\n",
       "  </tbody>\n",
       "</table>\n",
       "</div>"
      ],
      "text/plain": [
       "          f3         f4          f5          f6  f7  f8           f9  \\\n",
       "0  27.677983  91.388781  113.209530  119.066763  35  35  11582.00000   \n",
       "1  67.764253  18.374644   66.687665   86.138898  35  35  10687.94371   \n",
       "2  15.586149  44.981999   70.224125   60.568148  35  35  10481.06389   \n",
       "3  46.285723  35.742767   80.824620   82.028491  35  35  10255.49924   \n",
       "4  70.895098  54.298673  118.786567  125.193771  35  35  10535.18598   \n",
       "\n",
       "           f10         f11         f12  \n",
       "0  10687.94371  431.000000  415.311985  \n",
       "1  10481.06389  415.311985  368.255564  \n",
       "2  10255.49924  368.255564  394.118132  \n",
       "3  10535.18598  394.118132  390.997697  \n",
       "4  10720.26798  390.997697  373.836642  "
      ]
     },
     "execution_count": 3,
     "metadata": {},
     "output_type": "execute_result"
    }
   ],
   "source": [
    "df.head()"
   ]
  },
  {
   "cell_type": "code",
   "execution_count": 4,
   "metadata": {},
   "outputs": [],
   "source": [
    "features = ['f'+str(i) for i in range(5, 13)]\n",
    "X = df.loc[:, features]\n",
    "y = df.loc[:, ['f3', 'f4']]"
   ]
  },
  {
   "cell_type": "code",
   "execution_count": 5,
   "metadata": {},
   "outputs": [],
   "source": [
    "X_train, X_test, y_train, y_test = train_test_split(X, y, test_size=0.5, random_state=42)"
   ]
  },
  {
   "cell_type": "code",
   "execution_count": 6,
   "metadata": {},
   "outputs": [],
   "source": [
    "scaler = MinMaxScaler()\n",
    "scaler.fit(X_train)\n",
    "X_train = scaler.transform(X_train)\n",
    "X_test = scaler.transform(X_test)"
   ]
  },
  {
   "cell_type": "markdown",
   "metadata": {},
   "source": [
    "• Regressão linear\n",
    "\n",
    "• SVR\n",
    "\n",
    "• Redes Neurais (MLP) (+ de uma camada escondida)\n",
    "\n",
    "• kNN\n",
    "\n",
    "• Árvore de Decisão\n",
    "\n",
    "• Random Forest\n",
    "\n",
    "• Gradient Boosting"
   ]
  },
  {
   "cell_type": "code",
   "execution_count": 7,
   "metadata": {},
   "outputs": [],
   "source": [
    "models = {}\n",
    "\n",
    "models['LinearRegression'] = LinearRegression()\n",
    "models['SVR'] = SVR()\n",
    "\n",
    "nn = Sequential()\n",
    "nn.add(Dense(9, input_dim=8, kernel_initializer='normal', activation='relu'))\n",
    "nn.add(Dense(10, activation='relu'))\n",
    "nn.add(Dense(1, kernel_initializer='normal'))\n",
    "nn.compile(loss='mean_squared_error', optimizer='adam')\n",
    "\n",
    "models['DNN'] = nn\n",
    "models['KNeighborsRegressor'] = KNeighborsRegressor()\n",
    "models['DecisionTreeRegressor'] = DecisionTreeRegressor()\n",
    "models['RandomForestRegressor'] = RandomForestRegressor()\n",
    "models['GradientBoostingRegressor'] = GradientBoostingRegressor()"
   ]
  },
  {
   "cell_type": "code",
   "execution_count": 8,
   "metadata": {
    "scrolled": false
   },
   "outputs": [
    {
     "name": "stderr",
     "output_type": "stream",
     "text": [
      "\r",
      "Treinamento e previsão dos modelos:   0%|          | 0/7 [00:00<?, ?it/s]"
     ]
    },
    {
     "name": "stdout",
     "output_type": "stream",
     "text": [
      "\n",
      "Beginning model: LinearRegression \n",
      "\n",
      "\n",
      "Alvo: f3\n",
      "MSE: 952.1508589325759\n",
      "Percent inside 1 stadard deviation: 0.8477894736842105\n",
      "\n",
      "Alvo: f4\n",
      "MSE: 952.1508590175673\n",
      "Percent inside 1 stadard deviation: 0.9872280701754386\n",
      "\n",
      "Beginning model: SVR \n",
      "\n",
      "\n",
      "Alvo: f3\n",
      "MSE: 1051.5390483817575\n",
      "Percent inside 1 stadard deviation: 0.7632280701754386\n",
      "\n",
      "Alvo: f4\n"
     ]
    },
    {
     "name": "stderr",
     "output_type": "stream",
     "text": [
      "\r",
      "Treinamento e previsão dos modelos:  29%|██▊       | 2/7 [03:02<07:37, 91.43s/it]"
     ]
    },
    {
     "name": "stdout",
     "output_type": "stream",
     "text": [
      "MSE: 4743.609142605102\n",
      "Percent inside 1 stadard deviation: 0.9142105263157895\n",
      "\n",
      "Beginning model: DNN \n",
      "\n",
      "\n",
      "Alvo: f3\n",
      "Epoch 1/20\n",
      "28500/28500 [==============================] - 0s 16us/step - loss: 10008.7967\n",
      "Epoch 2/20\n",
      "28500/28500 [==============================] - 0s 9us/step - loss: 5266.6615\n",
      "Epoch 3/20\n",
      "28500/28500 [==============================] - 0s 8us/step - loss: 2070.3593\n",
      "Epoch 4/20\n",
      "28500/28500 [==============================] - 0s 9us/step - loss: 1886.5637\n",
      "Epoch 5/20\n",
      "28500/28500 [==============================] - 0s 9us/step - loss: 1749.9811\n",
      "Epoch 6/20\n",
      "28500/28500 [==============================] - 0s 9us/step - loss: 1613.0377\n",
      "Epoch 7/20\n",
      "28500/28500 [==============================] - 0s 8us/step - loss: 1478.5678\n",
      "Epoch 8/20\n",
      "28500/28500 [==============================] - 0s 9us/step - loss: 1353.5767\n",
      "Epoch 9/20\n",
      "28500/28500 [==============================] - 0s 8us/step - loss: 1246.1014\n",
      "Epoch 10/20\n",
      "28500/28500 [==============================] - 0s 8us/step - loss: 1145.2136\n",
      "Epoch 11/20\n",
      "28500/28500 [==============================] - 0s 8us/step - loss: 1065.0761\n",
      "Epoch 12/20\n",
      "28500/28500 [==============================] - 0s 9us/step - loss: 1007.1443\n",
      "Epoch 13/20\n",
      "28500/28500 [==============================] - 0s 8us/step - loss: 956.9317\n",
      "Epoch 14/20\n",
      "28500/28500 [==============================] - 0s 9us/step - loss: 909.4985\n",
      "Epoch 15/20\n",
      "28500/28500 [==============================] - 0s 9us/step - loss: 861.8825\n",
      "Epoch 16/20\n",
      "28500/28500 [==============================] - 0s 9us/step - loss: 814.0265\n",
      "Epoch 17/20\n",
      "28500/28500 [==============================] - 0s 8us/step - loss: 765.6773\n",
      "Epoch 18/20\n",
      "28500/28500 [==============================] - 0s 8us/step - loss: 718.0099\n",
      "Epoch 19/20\n",
      "28500/28500 [==============================] - 0s 9us/step - loss: 668.8754\n",
      "Epoch 20/20\n",
      "28500/28500 [==============================] - 0s 9us/step - loss: 620.8081\n",
      "MSE: 592.5557147186965\n",
      "Percent inside 1 stadard deviation: 0.9417192982456141\n",
      "\n",
      "Alvo: f4\n",
      "Epoch 1/20\n",
      "28500/28500 [==============================] - 0s 9us/step - loss: 3019.3251\n",
      "Epoch 2/20\n",
      "28500/28500 [==============================] - 0s 9us/step - loss: 1660.4031\n",
      "Epoch 3/20\n",
      "28500/28500 [==============================] - 0s 9us/step - loss: 1025.0180\n",
      "Epoch 4/20\n",
      "28500/28500 [==============================] - 0s 9us/step - loss: 661.3866\n",
      "Epoch 5/20\n",
      "28500/28500 [==============================] - 0s 9us/step - loss: 475.7047\n",
      "Epoch 6/20\n",
      "28500/28500 [==============================] - 0s 10us/step - loss: 390.0045\n",
      "Epoch 7/20\n",
      "28500/28500 [==============================] - 0s 11us/step - loss: 350.5494\n",
      "Epoch 8/20\n",
      "28500/28500 [==============================] - 0s 11us/step - loss: 331.4732\n",
      "Epoch 9/20\n",
      "28500/28500 [==============================] - 0s 11us/step - loss: 321.5386\n",
      "Epoch 10/20\n",
      "28500/28500 [==============================] - 0s 10us/step - loss: 314.7128\n",
      "Epoch 11/20\n",
      "28500/28500 [==============================] - 0s 9us/step - loss: 310.5062\n",
      "Epoch 12/20\n",
      "28500/28500 [==============================] - 0s 9us/step - loss: 307.1406\n",
      "Epoch 13/20\n",
      "28500/28500 [==============================] - 0s 9us/step - loss: 304.2628\n",
      "Epoch 14/20\n",
      "28500/28500 [==============================] - 0s 9us/step - loss: 301.9468\n",
      "Epoch 15/20\n",
      "28500/28500 [==============================] - 0s 9us/step - loss: 299.8857\n",
      "Epoch 16/20\n",
      "28500/28500 [==============================] - 0s 9us/step - loss: 298.2510\n",
      "Epoch 17/20\n",
      "28500/28500 [==============================] - 0s 8us/step - loss: 296.1506\n",
      "Epoch 18/20\n",
      "28500/28500 [==============================] - 0s 9us/step - loss: 295.3087\n",
      "Epoch 19/20\n",
      "28500/28500 [==============================] - 0s 9us/step - loss: 294.2238\n",
      "Epoch 20/20\n",
      "28500/28500 [==============================] - 0s 8us/step - loss: 293.4354\n"
     ]
    },
    {
     "name": "stderr",
     "output_type": "stream",
     "text": [
      "\r",
      "Treinamento e previsão dos modelos:  43%|████▎     | 3/7 [03:14<04:29, 67.38s/it]"
     ]
    },
    {
     "name": "stdout",
     "output_type": "stream",
     "text": [
      "MSE: 283.6776681605853\n",
      "Percent inside 1 stadard deviation: 0.9857543859649123\n",
      "\n",
      "Beginning model: KNeighborsRegressor \n",
      "\n",
      "\n",
      "Alvo: f3\n",
      "MSE: 577.7372373306835\n",
      "Percent inside 1 stadard deviation: 0.9121052631578948\n",
      "\n",
      "Alvo: f4\n"
     ]
    },
    {
     "name": "stderr",
     "output_type": "stream",
     "text": [
      "\r",
      "Treinamento e previsão dos modelos:  57%|█████▋    | 4/7 [03:15<02:22, 47.62s/it]"
     ]
    },
    {
     "name": "stdout",
     "output_type": "stream",
     "text": [
      "MSE: 746.7854455346667\n",
      "Percent inside 1 stadard deviation: 0.9654736842105263\n",
      "\n",
      "Beginning model: DecisionTreeRegressor \n",
      "\n",
      "\n",
      "Alvo: f3\n",
      "MSE: 497.77090107131784\n",
      "Percent inside 1 stadard deviation: 0.9131929824561403\n",
      "\n",
      "Alvo: f4\n"
     ]
    },
    {
     "name": "stderr",
     "output_type": "stream",
     "text": [
      "\r",
      "Treinamento e previsão dos modelos:  71%|███████▏  | 5/7 [03:16<01:07, 33.58s/it]"
     ]
    },
    {
     "name": "stdout",
     "output_type": "stream",
     "text": [
      "MSE: 496.2331685846548\n",
      "Percent inside 1 stadard deviation: 0.968842105263158\n",
      "\n",
      "Beginning model: RandomForestRegressor \n",
      "\n",
      "\n",
      "Alvo: f3\n",
      "MSE: 276.775070044466\n",
      "Percent inside 1 stadard deviation: 0.9560350877192982\n",
      "\n",
      "Alvo: f4\n"
     ]
    },
    {
     "name": "stderr",
     "output_type": "stream",
     "text": [
      "\r",
      "Treinamento e previsão dos modelos:  86%|████████▌ | 6/7 [03:21<00:24, 25.00s/it]"
     ]
    },
    {
     "name": "stdout",
     "output_type": "stream",
     "text": [
      "MSE: 280.1225591775776\n",
      "Percent inside 1 stadard deviation: 0.9888421052631579\n",
      "\n",
      "Beginning model: GradientBoostingRegressor \n",
      "\n",
      "\n",
      "Alvo: f3\n",
      "MSE: 247.34913352402745\n",
      "Percent inside 1 stadard deviation: 0.9592982456140351\n",
      "\n",
      "Alvo: f4\n"
     ]
    },
    {
     "name": "stderr",
     "output_type": "stream",
     "text": [
      "\r",
      "Treinamento e previsão dos modelos: 100%|██████████| 7/7 [03:26<00:00, 18.96s/it]"
     ]
    },
    {
     "name": "stdout",
     "output_type": "stream",
     "text": [
      "MSE: 250.07436353458667\n",
      "Percent inside 1 stadard deviation: 0.988561403508772\n"
     ]
    },
    {
     "name": "stderr",
     "output_type": "stream",
     "text": [
      "\n"
     ]
    }
   ],
   "source": [
    "results = {}\n",
    "pbar = tqdm(total=len(models), desc='Treinamento e previsão dos modelos')\n",
    "\n",
    "for model in models:\n",
    "    print('\\nBeginning model:', model, '\\n')\n",
    "    \n",
    "    for target in y_train.columns:\n",
    "        print('\\nAlvo:', target)\n",
    "        \n",
    "        y_train_tmp = y_train.loc[:, target]\n",
    "        y_test_tmp = y_test.loc[:, target]\n",
    "        \n",
    "        if model == 'DNN':\n",
    "            models[model].fit(X_train, y_train_tmp, batch_size=128, epochs=20)\n",
    "        else:\n",
    "            models[model].fit(X_train, y_train_tmp)\n",
    "            \n",
    "        pred = models[model].predict(X_test)\n",
    "        mse = mean_squared_error(y_test_tmp, pred)\n",
    "        print('MSE:', mse)\n",
    "        \n",
    "        std = y_test.loc[:, target].std()\n",
    "        pred_df = pd.DataFrame({'pred': pred.reshape(-1,)}, index=y_test.index)\n",
    "        \n",
    "        percent = pred_df.loc[(pred_df['pred'] < y_test.loc[:, target] + std) & (pred_df['pred'] > y_test.loc[:, target] - std), ].shape[0] / len(y_test)\n",
    "        \n",
    "        print('Percent inside 1 stadard deviation:', percent)\n",
    "        \n",
    "    pbar.update(1)\n",
    "        \n",
    "pbar.close()"
   ]
  },
  {
   "cell_type": "markdown",
   "metadata": {},
   "source": [
    "Para ambos os alvos `f3` e `f4` o Gradient Boosting é o modelo que minimiza o MSE\n",
    "\n",
    "Os modelos Random Forest e Gradient Boosting estão com pelo menos 95% das previsões dentro de um desvio padrão para mais ou para menos"
   ]
  }
 ],
 "metadata": {
  "kernelspec": {
   "display_name": "Python 3",
   "language": "python",
   "name": "python3"
  },
  "language_info": {
   "codemirror_mode": {
    "name": "ipython",
    "version": 3
   },
   "file_extension": ".py",
   "mimetype": "text/x-python",
   "name": "python",
   "nbconvert_exporter": "python",
   "pygments_lexer": "ipython3",
   "version": "3.6.5"
  }
 },
 "nbformat": 4,
 "nbformat_minor": 2
}
